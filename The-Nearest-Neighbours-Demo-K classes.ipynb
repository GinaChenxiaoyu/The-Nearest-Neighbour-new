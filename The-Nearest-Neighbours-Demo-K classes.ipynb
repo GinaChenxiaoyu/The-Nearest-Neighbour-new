{
 "cells": [
  {
   "cell_type": "code",
   "execution_count": 119,
   "metadata": {},
   "outputs": [],
   "source": [
    "import numpy as np\n",
    "from numpy import *\n",
    "from matplotlib import pyplot as plt"
   ]
  },
  {
   "cell_type": "markdown",
   "metadata": {},
   "source": [
    "#思路：\n",
    "1. 先按照你想分的类别数，随机找几个点作为每一类的中心点\n",
    "\n",
    "2. 根据你采用的距离计算方式（欧氏距离、曼哈顿距离等），将所有点按照最近邻的方式归到这几个中心点的类别中去\n",
    "\n",
    "3. 分类完毕后，根据每一类的所有点，来重新计算一个新的中心点来替代上一次使用的中心点\n",
    "\n",
    "4. 重复2,3，直到中心点不再变化，称之为收敛的时候，就完成了分类\n"
   ]
  },
  {
   "cell_type": "markdown",
   "metadata": {},
   "source": [
    "# 生成随机二维数组文件"
   ]
  },
  {
   "cell_type": "code",
   "execution_count": 121,
   "metadata": {},
   "outputs": [],
   "source": [
    "#fro,to分别为数据的起始范围，len为数据量，得稍微取大一点才会取得不错的效果，此次取40。\n",
    "def ge_Data():\n",
    "    fro=1\n",
    "    to=4\n",
    "    len=40\n",
    "    dataSet = [[random.uniform(fro,to) for j in range(1, 3)] for i in range(1, len+1)]\n",
    "    return dataSet"
   ]
  },
  {
   "cell_type": "markdown",
   "metadata": {},
   "source": [
    "# 生成k个随机中心点，k为希望得到的类别数，此次取4."
   ]
  },
  {
   "cell_type": "code",
   "execution_count": 123,
   "metadata": {},
   "outputs": [],
   "source": [
    "def randCent(dataSet,k):\n",
    "    fro=1\n",
    "    to=4\n",
    "    ndims=array(dataSet).shape[1]\n",
    "    centsArray=(to-fro)*np.random.random((k,ndims))+fro\n",
    "    return centsArray"
   ]
  },
  {
   "cell_type": "markdown",
   "metadata": {},
   "source": [
    "# 计算欧氏距离的函数"
   ]
  },
  {
   "cell_type": "code",
   "execution_count": 124,
   "metadata": {},
   "outputs": [],
   "source": [
    "def disEucli(vecA,vecB):\n",
    "    return sqrt(sum(power(vecA-vecB,2)))"
   ]
  },
  {
   "cell_type": "code",
   "execution_count": 125,
   "metadata": {},
   "outputs": [],
   "source": [
    "def kMeans(dataSet,k):\n",
    "    num = array(dataSet).shape[0]\n",
    "    # 建立一个数组clusterAssignmentArray存储每个点的类别和与对应中心点的欧氏距离\n",
    "    clusterAssignmentArray = zeros((num,2))\n",
    "    centsArray = randCent(dataSet,k)\n",
    "    change= True\n",
    "    while change:\n",
    "        change=False\n",
    "        for i in range(num):\n",
    "            minIndex=-1\n",
    "            minDist=inf\n",
    "            for j in range(k):\n",
    "                dis=disEucli(array(dataSet[i]),centsArray[j])\n",
    "                if dis>0 and dis<minDist:\n",
    "                    minDist=dis\n",
    "                    minIndex=j\n",
    "            if clusterAssignmentArray[i][0] != minIndex:\n",
    "                clusterAssignmentArray[i] = [minIndex,minDist]\n",
    "                change=True\n",
    "        for i in range(k):\n",
    "            temp=[]\n",
    "            for j in range(num):\n",
    "                if clusterAssignmentArray[j][0]==i:\n",
    "                    temp.append(dataSet[j])\n",
    "                centsArray[i,:]=mean(temp,axis=0)\n",
    "                #print(centsArray)\n",
    "    return centsArray,clusterAssignmentArray"
   ]
  },
  {
   "cell_type": "code",
   "execution_count": 139,
   "metadata": {},
   "outputs": [
    {
     "name": "stderr",
     "output_type": "stream",
     "text": [
      "D:\\AnacondaInstallation\\lib\\site-packages\\numpy\\core\\fromnumeric.py:3118: RuntimeWarning: Mean of empty slice.\n",
      "  out=out, **kwargs)\n",
      "D:\\AnacondaInstallation\\lib\\site-packages\\numpy\\core\\_methods.py:85: RuntimeWarning: invalid value encountered in double_scalars\n",
      "  ret = ret.dtype.type(ret / rcount)\n"
     ]
    },
    {
     "data": {
      "image/png": "[encoded data removed]",
      "text/plain": [
       "<Figure size 432x288 with 1 Axes>"
      ]
     },
     "metadata": {},
     "output_type": "display_data"
    }
   ],
   "source": [
    "if __name__ == \"__main__\":\n",
    "    k=4\n",
    "    len=40\n",
    "    dataSet=ge_Data()\n",
    "    dataMat=mat(dataSet)\n",
    "    myCentres,myDistribution=kMeans(dataMat,k)\n",
    "    plt.plot(myCentres[:,0].tolist(),myCentres[:,1].tolist(),'k*')\n",
    "    \n",
    "    colourList = ['bo', 'ro', 'yo', 'co']\n",
    "    for i in range(k):\n",
    "        centX=[] \n",
    "        centY=[]\n",
    "        for j in range(len):\n",
    "            if myDistribution[j].tolist()[0] == i:\n",
    "                centX.append(dataMat[j].tolist()[0][0])\n",
    "                centY.append(dataMat[j].tolist()[0][1])\n",
    "        plt.plot(centX, centY, colourList[i])"
   ]
  },
  {
   "cell_type": "code",
   "execution_count": null,
   "metadata": {},
   "outputs": [],
   "source": []
  }
 ],
 "metadata": {
  "kernelspec": {
   "display_name": "Python 3",
   "language": "python",
   "name": "python3"
  },
  "language_info": {
   "codemirror_mode": {
    "name": "ipython",
    "version": 3
   },
   "file_extension": ".py",
   "mimetype": "text/x-python",
   "name": "python",
   "nbconvert_exporter": "python",
   "pygments_lexer": "ipython3",
   "version": "3.6.5"
  }
 },
 "nbformat": 4,
 "nbformat_minor": 2
}
